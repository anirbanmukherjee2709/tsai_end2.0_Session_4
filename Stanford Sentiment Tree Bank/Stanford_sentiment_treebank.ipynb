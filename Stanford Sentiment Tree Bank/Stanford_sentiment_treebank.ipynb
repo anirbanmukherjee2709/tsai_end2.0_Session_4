{
  "nbformat": 4,
  "nbformat_minor": 0,
  "metadata": {
    "colab": {
      "name": "Session 05: Assignment",
      "provenance": [],
      "collapsed_sections": [],
      "include_colab_link": true
    },
    "kernelspec": {
      "name": "python3",
      "display_name": "Python 3"
    },
    "language_info": {
      "name": "python"
    },
    "accelerator": "GPU"
  },
  "cells": [
    {
      "cell_type": "markdown",
      "metadata": {
        "id": "view-in-github",
        "colab_type": "text"
      },
      "source": [
        "<a href=\"https://colab.research.google.com/github/anirbanmukherjee2709/tsai_end2.0_Session_5/blob/main/Session_05_Assignment.ipynb\" target=\"_parent\"><img src=\"https://colab.research.google.com/assets/colab-badge.svg\" alt=\"Open In Colab\"/></a>"
      ]
    },
    {
      "cell_type": "code",
      "metadata": {
        "id": "Uh348VY6swyx",
        "colab": {
          "base_uri": "https://localhost:8080/"
        },
        "outputId": "a7a4acb9-4cb7-4a61-84b4-3525b0ddff1b"
      },
      "source": [
        "# download the dataset\n",
        "%%shell\n",
        "pip install google-trans-new\n",
        "cd /content\n",
        "path='/content/input'\n",
        "comp='stanfordSentimentTreebank'\n",
        "\n",
        "mkdir -p $path\n",
        "mkdir -p /content/working/\n",
        "\n",
        "wget -c 'http://nlp.stanford.edu/~socherr/'$comp'.zip' -O $comp'.zip'\n",
        "\n",
        "# wget -c 'https://github.com/allenai/spv2/raw/master/model/glove.6B.100d.txt.gz'\n",
        "\n",
        "unzip -q $comp.zip -d $path\n",
        "# gunzip -c 'glove.6B.100d.txt.gz' > '/content/working/glove.6B.100d.txt'\n",
        "rm -rf '/content/input/__MACOSX'"
      ],
      "execution_count": null,
      "outputs": [
        {
          "output_type": "stream",
          "text": [
            "Collecting google-trans-new\n",
            "  Downloading https://files.pythonhosted.org/packages/f9/7b/9f136106dc5824dc98185c97991d3cd9b53e70a197154dd49f7b899128f6/google_trans_new-1.1.9-py3-none-any.whl\n",
            "Installing collected packages: google-trans-new\n",
            "Successfully installed google-trans-new-1.1.9\n",
            "--2021-06-07 14:26:08--  http://nlp.stanford.edu/~socherr/stanfordSentimentTreebank.zip\n",
            "Resolving nlp.stanford.edu (nlp.stanford.edu)... 171.64.67.140\n",
            "Connecting to nlp.stanford.edu (nlp.stanford.edu)|171.64.67.140|:80... connected.\n",
            "HTTP request sent, awaiting response... 302 Found\n",
            "Location: https://nlp.stanford.edu/~socherr/stanfordSentimentTreebank.zip [following]\n",
            "--2021-06-07 14:26:08--  https://nlp.stanford.edu/~socherr/stanfordSentimentTreebank.zip\n",
            "Connecting to nlp.stanford.edu (nlp.stanford.edu)|171.64.67.140|:443... connected.\n",
            "HTTP request sent, awaiting response... 200 OK\n",
            "Length: 6372817 (6.1M) [application/zip]\n",
            "Saving to: ‘stanfordSentimentTreebank.zip’\n",
            "\n",
            "stanfordSentimentTr 100%[===================>]   6.08M  27.8MB/s    in 0.2s    \n",
            "\n",
            "2021-06-07 14:26:08 (27.8 MB/s) - ‘stanfordSentimentTreebank.zip’ saved [6372817/6372817]\n",
            "\n"
          ],
          "name": "stdout"
        },
        {
          "output_type": "execute_result",
          "data": {
            "text/plain": [
              ""
            ]
          },
          "metadata": {
            "tags": []
          },
          "execution_count": 1
        }
      ]
    },
    {
      "cell_type": "code",
      "metadata": {
        "id": "NmKgO6CsjJfN",
        "colab": {
          "base_uri": "https://localhost:8080/"
        },
        "outputId": "6be68380-f9d2-4263-d7e4-df3068d7a260"
      },
      "source": [
        "# Import Library\n",
        "import pandas as pd\n",
        "import numpy as np\n",
        "from sklearn.model_selection import train_test_split\n",
        "import matplotlib.pyplot as plt\n",
        "\n",
        "import random\n",
        "import time\n",
        "import os\n",
        "\n",
        "import torch, torchtext\n",
        "from torchtext.legacy import data\n",
        "import torch.nn as nn\n",
        "import torch.nn.functional as F\n",
        "import torch.optim as optim\n",
        "\n",
        "from gensim.parsing.preprocessing import remove_stopwords\n",
        "import nltk\n",
        "nltk.download('wordnet')\n",
        "from nltk.corpus import wordnet\n",
        "\n",
        "import google_trans_new\n",
        "from google_trans_new import google_translator"
      ],
      "execution_count": null,
      "outputs": [
        {
          "output_type": "stream",
          "text": [
            "[nltk_data] Downloading package wordnet to /root/nltk_data...\n",
            "[nltk_data]   Unzipping corpora/wordnet.zip.\n"
          ],
          "name": "stdout"
        }
      ]
    },
    {
      "cell_type": "markdown",
      "metadata": {
        "id": "L9EeIBy6BtiH"
      },
      "source": [
        "## Dataset"
      ]
    },
    {
      "cell_type": "markdown",
      "metadata": {
        "id": "auw-m_mOBvIV"
      },
      "source": [
        "Setting up the dataset to incorporate labels with text"
      ]
    },
    {
      "cell_type": "code",
      "metadata": {
        "id": "IU2PNxIhBs1G"
      },
      "source": [
        "DATA_PATH = '/content/input/stanfordSentimentTreebank'\n",
        "WORK_PATH = '/content/working'\n",
        "\n",
        "DATA_SET = 'datasetSentences.txt'\n",
        "TRAIN_DEV_TEST = 'datasetSplit.txt'\n",
        "PHRASE_DICT = 'dictionary.txt'\n",
        "PHRASE_LABELS = 'sentiment_labels.txt'\n",
        "\n",
        "def getRandomState():\n",
        "    return np.random.RandomState(RANDOM_SEED)\n",
        "\n",
        "# Create translator object\n",
        "translator = google_translator()\n",
        "available_langs = list(google_trans_new.LANGUAGES.keys())"
      ],
      "execution_count": null,
      "outputs": []
    },
    {
      "cell_type": "code",
      "metadata": {
        "id": "R-vuvX7R3cgY"
      },
      "source": [
        "# Manual Seed\n",
        "RANDOM_SEED = 43\n",
        "torch.manual_seed(RANDOM_SEED)\n",
        "\n",
        "# Declare Constants\n",
        "PATH_CSV = '/content/tweets.csv'\n",
        "\n",
        "NLP_AUG = [\n",
        "    'random_insertion',\n",
        "    'random_deletion',\n",
        "    'random_swap',\n",
        "    'translate'\n",
        "]\n",
        "\n",
        "RANDOM = getRandomState()\n",
        "\n",
        "AUG_COUNT = 6 #arbitrary number can be increased or decreased. But needs to be an positive integer\n",
        "\n",
        "device = torch.device(\"cuda\" if torch.cuda.is_available() else \"cpu\")"
      ],
      "execution_count": null,
      "outputs": []
    },
    {
      "cell_type": "markdown",
      "metadata": {
        "id": "7BDRzCfSeacN"
      },
      "source": [
        "Essential functions"
      ]
    },
    {
      "cell_type": "code",
      "metadata": {
        "id": "8boOzwtrkAEo"
      },
      "source": [
        "def clean_data(x):\n",
        "    char_dict = {\n",
        "        '-LRB-' : '(',\n",
        "        '-RRB-' : ')',\n",
        "        '\\xa0' : ' ',\n",
        "        '\\xc2' : '',\n",
        "        '\\xc3\\x83\\xc2\\xa0' : 'a',\n",
        "        'à' : 'a',\n",
        "        'Â' : '',\n",
        "        'â' : 'a',\n",
        "        'ã' : 'a',\n",
        "        'Ã¡' : 'a',\n",
        "        'Ã¢' : 'a',\n",
        "        'Ã£' : 'a',\n",
        "        'Ã¦' : 'ae',\n",
        "        'Ã§' : 'c',\n",
        "        'Ã¨' : 'e',\n",
        "        'Ã©' : 'e',\n",
        "        'Ã­' : 'i',\n",
        "        'Ã¯' : 'i',\n",
        "        'Ã±' : 'n',\n",
        "        'Ã³' : 'o',\n",
        "        'Ã´' : 'o',\n",
        "        'Ã¶' : 'o',\n",
        "        'Ã»' : 'u',\n",
        "        'Ã¼' : 'u',\n",
        "        'æ' : 'ae',\n",
        "        'ç' : 'c',\n",
        "        'è' : 'e',\n",
        "        'é' : 'e',\n",
        "        'í' : 'i',\n",
        "        'ï' : 'i',\n",
        "        'ñ' : 'n',\n",
        "        'ó' : 'o',\n",
        "        'ô' : 'o',\n",
        "        'ö' : 'o',\n",
        "        'û' : 'u',\n",
        "        'ü' : 'u'\n",
        "    }\n",
        "    for keys in char_dict.keys():\n",
        "        x = x.replace(keys, char_dict[keys])\n",
        "    return x\n",
        "\n",
        "def sentiment_for_phrases():\n",
        "    # import phrase dictionary\n",
        "    df_dictionary = pd.read_table(\n",
        "        filepath_or_buffer = os.path.join(DATA_PATH, PHRASE_DICT)\n",
        "        , header = None\n",
        "    )\n",
        "    df_dictionary = df_dictionary[0].str.split('|', expand=True)\n",
        "    df_dictionary.columns = ['phrase', 'phrase_ids']\n",
        "\n",
        "    # done to join it with the sentence dataset\n",
        "    df_dictionary['sentence'] = df_dictionary['phrase'].apply(lambda x: clean_data(x))\n",
        "\n",
        "    # import sentiments from \n",
        "    df_sentiment = pd.read_table(\n",
        "        filepath_or_buffer = os.path.join(DATA_PATH, PHRASE_LABELS)\n",
        "        , header = None\n",
        "        , skiprows=1\n",
        "    )\n",
        "    df_sentiment = df_sentiment[0].str.split('|', expand=True)\n",
        "    df_sentiment.columns = ['phrase_ids', 'sentiment_values']\n",
        "    df_sentiment['sentiment_values'] = df_sentiment['sentiment_values'].astype('float32')\n",
        "    df_sentiment['sentiment_5'] = df_sentiment['sentiment_values'].apply(lambda x: 5 if 0.8 < x <= 1.0 else 4 if 0.6 < x <= 0.8 else 3 if 0.4 < x <= 0.6 else 2 if 0.2 < x <= 0.4 else 1)\n",
        "    df_sentiment['sentiment_25'] = df_sentiment['sentiment_values'].apply(lambda x: int(x*24+1))\n",
        "\n",
        "    # merge and returm the sentiment dictionary\n",
        "    return df_dictionary.merge(\n",
        "        df_sentiment\n",
        "        , how='inner'\n",
        "        , on = 'phrase_ids'\n",
        "    )\n",
        "\n",
        "def import_and_create_split_mapping():\n",
        "    # import the sentence dataset\n",
        "    df_data_sentence = pd.read_table(os.path.join(DATA_PATH, DATA_SET))\n",
        "\n",
        "    df_data_sentence['sentence'] = df_data_sentence['sentence'].apply(lambda x: clean_data(x))\n",
        "\n",
        "    # import the train dev and test splits for each sentences\n",
        "    train_dev_test_splits = pd.read_csv(os.path.join(DATA_PATH, TRAIN_DEV_TEST))\n",
        "\n",
        "    train_dev_test_splits['splitset_label_2'] = train_dev_test_splits['splitset_label'].apply(lambda x: 'train' if x == 1 else 'valid' if x == 2 else 'test')\n",
        "\n",
        "    return df_data_sentence.merge(\n",
        "        train_dev_test_splits\n",
        "        , how = 'inner'\n",
        "        , on = 'sentence_index'\n",
        "    )\n",
        "    "
      ],
      "execution_count": null,
      "outputs": []
    },
    {
      "cell_type": "code",
      "metadata": {
        "id": "N5trkImFpx9K"
      },
      "source": [
        "# import sentences from rotten tomatoes\n",
        "df  = import_and_create_split_mapping()\n",
        "\n",
        "# import processed sentiment dictionary\n",
        "df_sentiment_dict = sentiment_for_phrases()\n",
        "\n",
        "df_final = df.merge(\n",
        "    df_sentiment_dict\n",
        "    , how = 'inner'\n",
        "    , on = 'sentence'\n",
        ")"
      ],
      "execution_count": null,
      "outputs": []
    },
    {
      "cell_type": "code",
      "metadata": {
        "id": "kZTdMCE1NAih"
      },
      "source": [
        "(df_train, df_valid) = train_test_split(df_final, test_size=0.3, random_state=random.seed(RANDOM_SEED))\n",
        "\n",
        "assert len(df_train) + len(df_valid) == len(df_final)"
      ],
      "execution_count": null,
      "outputs": []
    },
    {
      "cell_type": "code",
      "metadata": {
        "colab": {
          "base_uri": "https://localhost:8080/"
        },
        "id": "Wl90IZLYQyBA",
        "outputId": "aebc7313-d597-48a0-f457-7b85d7664bd0"
      },
      "source": [
        "(df_valid.columns, df_valid.index)"
      ],
      "execution_count": null,
      "outputs": [
        {
          "output_type": "execute_result",
          "data": {
            "text/plain": [
              "(Index(['sentence_index', 'sentence', 'splitset_label', 'splitset_label_2',\n",
              "        'phrase', 'phrase_ids', 'sentiment_values', 'sentiment_5',\n",
              "        'sentiment_25'],\n",
              "       dtype='object'),\n",
              " Int64Index([ 9463, 10099,  7344,  3673,  4947,  8616,  9684,  9215,  1992,\n",
              "               881,\n",
              "             ...\n",
              "             10176, 10359,  5858, 11329,  5414,  7102, 10672,  7778,  4470,\n",
              "              3239],\n",
              "            dtype='int64', length=3558))"
            ]
          },
          "metadata": {
            "tags": []
          },
          "execution_count": 8
        }
      ]
    },
    {
      "cell_type": "markdown",
      "metadata": {
        "id": "Jb0DwT9p1Pqs"
      },
      "source": [
        "Augmentation Functions"
      ]
    },
    {
      "cell_type": "code",
      "metadata": {
        "id": "-pi8NeRH1PMz"
      },
      "source": [
        "def get_synonyms(word):\n",
        "    synonyms = set()\n",
        "    for syn in wordnet.synsets(word): \n",
        "        for l in syn.lemmas(): \n",
        "            synonym = l.name().replace(\"_\", \" \").replace(\"-\", \" \").lower()\n",
        "            synonym = \"\".join([char for char in synonym if char in ' qwertyuiopasdfghjklzxcvbnm'])\n",
        "            synonyms.add(synonym)\n",
        "    if word in synonyms:\n",
        "        synonyms.remove(word)\n",
        "    \n",
        "    return list(synonyms)\n",
        "\n",
        "def random_insertion(sentence, n=5): \n",
        "    words = remove_stopwords(sentence)\n",
        "    words, sentence = words.split(), sentence.split() # Code added to tokenize\n",
        "    for _ in range(n):\n",
        "        new_synonym = get_synonyms(random.choice(words))\n",
        "        if len(new_synonym) > 0:\n",
        "            sentence.insert(random.randrange(len(sentence)), random.choice(new_synonym)) \n",
        "    return ' '.join(sentence)\n",
        "\n",
        "def random_deletion(sentence, p=0.5):\n",
        "    words = sentence.split() # Code added to tokenize\n",
        "    if len(words) == 1: # return if single word\n",
        "        return words\n",
        "    remaining = list(filter(lambda x: random.uniform(0,1) > p, words)) \n",
        "    if len(remaining) == 0: # if not left, sample a random word\n",
        "        return ' '.join([random.choice(words)])\n",
        "    else:\n",
        "        return ' '.join(remaining)\n",
        "\n",
        "def random_swap(sentence, n=5):\n",
        "    sentence = sentence.split() # Code added to tokenize\n",
        "    length = range(len(sentence))\n",
        "    if len(sentence) > 1:\n",
        "        for _ in range(n):\n",
        "            idx1, idx2 = random.sample(length, 2)\n",
        "            sentence[idx1], sentence[idx2] = sentence[idx2], sentence[idx1] \n",
        "    return ' '.join(sentence)\n",
        "\n",
        "def translate_and_back(sentence):\n",
        "    trans_lang = random.choice(available_langs)\n",
        "    translated = translator.translate(\n",
        "        translator.translate(sentence, lang_tgt=trans_lang),\n",
        "        lang_src=trans_lang,\n",
        "        lang_tgt='en'\n",
        "    )\n",
        "    return translated\n",
        "\n",
        "def augment_dataset(x, y1, y2):\n",
        "    sentence_stack = []\n",
        "    if AUG_COUNT > 0:\n",
        "        aug_list = np.random.choice(NLP_AUG, size=AUG_COUNT, p=[0.33, 0.33, 0.33, 0.01])\n",
        "        # np.random.randint(1, high=len(NLP_AUG) + 1, size=AUG_COUNT, dtype=int)\n",
        "        \n",
        "        for num_aug in aug_list:\n",
        "            if   num_aug == NLP_AUG[0]:\n",
        "                st = random_insertion(x, random.randint(0, int(len(x)/2)))\n",
        "                sentence_stack.append((st, y1, y2))\n",
        "            elif num_aug == NLP_AUG[1]:\n",
        "                sentence_stack.append((random_deletion(x), y1, y2))\n",
        "            elif num_aug == NLP_AUG[2]:\n",
        "                st = random_swap(x, random.randint(0, int(len(x)/2)))\n",
        "                sentence_stack.append((st, y1, y2))\n",
        "            elif num_aug == NLP_AUG[3]:\n",
        "                sentence_stack.append((translate_and_back(x), y1, y2))\n",
        "\n",
        "    return sentence_stack"
      ],
      "execution_count": null,
      "outputs": []
    },
    {
      "cell_type": "markdown",
      "metadata": {
        "id": "f6FeeG_v-LoV"
      },
      "source": [
        "# Create Augmentation"
      ]
    },
    {
      "cell_type": "markdown",
      "metadata": {
        "id": "Pl6-0Fx3-Oa_"
      },
      "source": [
        "Create different augmentation for each of the tweets and pass it wil the same label"
      ]
    },
    {
      "cell_type": "code",
      "metadata": {
        "id": "DST7wikv2Lu_"
      },
      "source": [
        "df_aug = pd.DataFrame()\n",
        "for idx in df_train.index:\n",
        "    aug_df = pd.DataFrame(\n",
        "        augment_dataset(df_train['sentence'][idx], df_train['sentiment_5'][idx], df_train['sentiment_25'][idx]),\n",
        "        columns=['sentence','sentiment_5', 'sentiment_25']\n",
        "    )\n",
        "    df_aug = df_aug.append(aug_df)\n",
        "\n",
        "assert len(df_train) * (AUG_COUNT) == len(df_aug)"
      ],
      "execution_count": null,
      "outputs": []
    },
    {
      "cell_type": "code",
      "metadata": {
        "id": "7rmOFD3A-2-E"
      },
      "source": [
        "# create a single dataset of the augmented and original data\n",
        "df_new = df_train.append(df_aug[['sentence', 'sentiment_5', 'sentiment_25']])\n",
        "df_new.reset_index(drop=True,inplace=True)\n",
        "\n",
        "assert len(df_train) * (AUG_COUNT + 1) == len(df_new)"
      ],
      "execution_count": null,
      "outputs": []
    },
    {
      "cell_type": "markdown",
      "metadata": {
        "id": "o8YRf9yu-Stj"
      },
      "source": [
        "# Defining Fields"
      ]
    },
    {
      "cell_type": "markdown",
      "metadata": {
        "id": "baYJi3Fj-UfD"
      },
      "source": [
        "Now we shall be defining LABEL as a LabelField, which is a subclass of Field that sets sequen tial to False (as it’s our numerical category class). TWEET is a standard Field object, where we have decided to use the spaCy tokenizer and convert all the text to lower‐ case."
      ]
    },
    {
      "cell_type": "code",
      "metadata": {
        "id": "Mg5MWEbj3BfE"
      },
      "source": [
        "sentence = data.Field(sequential = True, tokenize = 'spacy', batch_first =True, include_lengths=True)\n",
        "label = data.LabelField(tokenize ='spacy', is_target=True, batch_first =True, sequential =False)\n",
        "# label25 = data.LabelField(tokenize ='spacy', is_target=True, batch_first =True, sequential =False)"
      ],
      "execution_count": null,
      "outputs": []
    },
    {
      "cell_type": "markdown",
      "metadata": {
        "id": "5w3tuT5DAWEn"
      },
      "source": [
        "Having defined those fields, we now need to produce a list that maps them onto the list of rows that are in the CSV:"
      ]
    },
    {
      "cell_type": "code",
      "metadata": {
        "id": "ZmxfUNxp-e2q"
      },
      "source": [
        "fields = [('sentence', sentence),('sentiment_5', label)]"
      ],
      "execution_count": null,
      "outputs": []
    },
    {
      "cell_type": "markdown",
      "metadata": {
        "id": "1KZnBqpOAYa4"
      },
      "source": [
        "Armed with our declared fields, lets convert from pandas to list to torchtext. We could also use TabularDataset to apply that definition to the CSV directly but showing an alternative approach too."
      ]
    },
    {
      "cell_type": "code",
      "metadata": {
        "id": "tBsyrHFAzuy7"
      },
      "source": [
        "train = [data.Example.fromlist([df_new.sentence[i], df_new.sentiment_5[i]], fields) for i in range(df_new.shape[0])]\n",
        "valid = [data.Example.fromlist([df_valid.sentence[i], df_valid.sentiment_5[i]], fields) for i in df_valid.index]"
      ],
      "execution_count": null,
      "outputs": []
    },
    {
      "cell_type": "code",
      "metadata": {
        "id": "zD88zAlOTVmq"
      },
      "source": [
        "# Creating dataset\n",
        "train = data.Dataset(train, fields)\n",
        "valid = data.Dataset(valid, fields)"
      ],
      "execution_count": null,
      "outputs": []
    },
    {
      "cell_type": "markdown",
      "metadata": {
        "id": "7fhV7Xe1AbC2"
      },
      "source": [
        "Finally, we can split into training, testing, and validation sets by using the split() method:"
      ]
    },
    {
      "cell_type": "code",
      "metadata": {
        "id": "pWSZnRl9zzfq",
        "colab": {
          "base_uri": "https://localhost:8080/"
        },
        "outputId": "9d21d0f5-9bc7-4eda-c343-a865a34092c3"
      },
      "source": [
        "(len(train), len(valid))"
      ],
      "execution_count": null,
      "outputs": [
        {
          "output_type": "execute_result",
          "data": {
            "text/plain": [
              "(58100, 3558)"
            ]
          },
          "metadata": {
            "tags": []
          },
          "execution_count": 16
        }
      ]
    },
    {
      "cell_type": "markdown",
      "metadata": {
        "id": "LEPeP5fyAdl4"
      },
      "source": [
        "An example from the dataset:"
      ]
    },
    {
      "cell_type": "code",
      "metadata": {
        "id": "rw0x5MPLz1G3",
        "colab": {
          "base_uri": "https://localhost:8080/"
        },
        "outputId": "bf61d136-2e31-4479-b60f-6e4e415f0f5f"
      },
      "source": [
        "vars(train.examples[random.randint(0, df_new.shape[0])])"
      ],
      "execution_count": null,
      "outputs": [
        {
          "output_type": "execute_result",
          "data": {
            "text/plain": [
              "{'sentence': ['photographic',\n",
              "  'marvel',\n",
              "  'of',\n",
              "  'sorts',\n",
              "  'and',\n",
              "  'record',\n",
              "  'of',\n",
              "  'that',\n",
              "  'fishy'],\n",
              " 'sentiment_5': 4}"
            ]
          },
          "metadata": {
            "tags": []
          },
          "execution_count": 17
        }
      ]
    },
    {
      "cell_type": "markdown",
      "metadata": {
        "id": "M2eZbD1kKkSf"
      },
      "source": [
        "## Building Vocabulary"
      ]
    },
    {
      "cell_type": "markdown",
      "metadata": {
        "id": "02FnXct_KlH1"
      },
      "source": [
        "At this point we would have built a one-hot encoding of each word that is present in the dataset—a rather tedious process. Thankfully, torchtext will do this for us, and will also allow a max_size parameter to be passed in to limit the vocabu‐ lary to the most common words. This is normally done to prevent the construction of a huge, memory-hungry model. We don’t want our GPUs too overwhelmed, after all. \n",
        "\n",
        "Let’s limit the vocabulary to a maximum of 5000 words in our training set:"
      ]
    },
    {
      "cell_type": "code",
      "metadata": {
        "id": "-ULOI-lnz29U"
      },
      "source": [
        "sentence.build_vocab(train)\n",
        "label.build_vocab(train)\n",
        "# label25.build_vocab(train)"
      ],
      "execution_count": null,
      "outputs": []
    },
    {
      "cell_type": "markdown",
      "metadata": {
        "id": "2N-5waP6Kp8t"
      },
      "source": [
        "By default, torchtext will add two more special tokens, <unk> for unknown words and <pad>, a padding token that will be used to pad all our text to roughly the same size to help with efficient batching on the GPU."
      ]
    },
    {
      "cell_type": "code",
      "metadata": {
        "id": "rzKuavaBz4bO",
        "colab": {
          "base_uri": "https://localhost:8080/"
        },
        "outputId": "0ca4600a-902a-4268-a2e6-893c2890a647"
      },
      "source": [
        "print('Size of input vocab : ', len(sentence.vocab))\n",
        "print('Size of label5 vocab : ', len(label.vocab))\n",
        "print('Top 10 words appreared repeatedly :', list(sentence.vocab.freqs.most_common(10)))\n",
        "print('Labels 5 : ', label.vocab.stoi)"
      ],
      "execution_count": null,
      "outputs": [
        {
          "output_type": "stream",
          "text": [
            "Size of input vocab :  30192\n",
            "Size of label5 vocab :  5\n",
            "Top 10 words appreared repeatedly : [('.', 47183), (',', 42108), ('the', 37804), ('of', 28633), ('a', 27623), ('and', 26435), ('to', 18408), ('-', 16230), ('is', 14866), (\"'s\", 14452)]\n",
            "Labels 5 :  defaultdict(None, {4: 0, 2: 1, 3: 2, 5: 3, 1: 4})\n"
          ],
          "name": "stdout"
        }
      ]
    },
    {
      "cell_type": "markdown",
      "metadata": {
        "id": "IVFgEF6AKvVr"
      },
      "source": [
        "**Lots of stopwords!!**"
      ]
    },
    {
      "cell_type": "markdown",
      "metadata": {
        "id": "UoWHYWX8KxqK"
      },
      "source": [
        "Now we need to create a data loader to feed into our training loop. Torchtext provides the BucketIterator method that will produce what it calls a Batch, which is almost, but not quite, like the data loader we used on images."
      ]
    },
    {
      "cell_type": "code",
      "metadata": {
        "id": "xogYHB1uz-Z7"
      },
      "source": [
        "train_iterator, valid_iterator = data.BucketIterator.splits((train, valid), batch_size = 32, \n",
        "                                                            sort_key = lambda x: len(x.sentence),\n",
        "                                                            sort_within_batch=True, device = device)"
      ],
      "execution_count": null,
      "outputs": []
    },
    {
      "cell_type": "markdown",
      "metadata": {
        "id": "ldjY9qgDK3aY"
      },
      "source": [
        "Save the vocabulary for later use"
      ]
    },
    {
      "cell_type": "code",
      "metadata": {
        "id": "5XrF_Hsl0AG7"
      },
      "source": [
        "import os, pickle\n",
        "with open('tokenizer.pkl', 'wb') as tokens: \n",
        "    pickle.dump(sentence.vocab.stoi, tokens)"
      ],
      "execution_count": null,
      "outputs": []
    },
    {
      "cell_type": "markdown",
      "metadata": {
        "id": "T2268S6fK6pw"
      },
      "source": [
        "## Defining Our Model"
      ]
    },
    {
      "cell_type": "markdown",
      "metadata": {
        "id": "LbiShii_K7VF"
      },
      "source": [
        "We use the Embedding and LSTM modules in PyTorch to build a simple model for classifying tweets.\n",
        "\n",
        "In this model we create three layers. \n",
        "1. First, the words in our tweets are pushed into an Embedding layer, which we have established as a 300-dimensional vector embedding. \n",
        "2. That’s then fed into a 2 stacked-LSTMs with 100 hidden features (again, we’re compressing down from the 300-dimensional input like we did with images). We are using 2 LSTMs for using the dropout.\n",
        "3. Finally, the output of the LSTM (the final hidden state after processing the incoming tweet) is pushed through a standard fully connected layer with three outputs to correspond to our three possible classes (negative, positive, or neutral)."
      ]
    },
    {
      "cell_type": "code",
      "metadata": {
        "id": "YnvqGt6p0Hzj"
      },
      "source": [
        "class classifier(nn.Module):\n",
        "    \n",
        "    # Define all the layers used in model\n",
        "    def __init__(self, vocab_size, embedding_dim, hidden_dim, output_dim, n_layers, dropout):\n",
        "        \n",
        "        super().__init__()          \n",
        "        \n",
        "        # Embedding layer\n",
        "        self.embedding = nn.Embedding(vocab_size, embedding_dim)\n",
        "        \n",
        "        # LSTM layer\n",
        "        self.encoder = nn.LSTM(embedding_dim, \n",
        "                           hidden_dim, \n",
        "                           num_layers=n_layers, \n",
        "                           dropout=dropout,\n",
        "                        #    bidirectional=True,\n",
        "                           batch_first=True)\n",
        "        # try using nn.GRU or nn.RNN here and compare their performances\n",
        "        # try bidirectional and compare their performances\n",
        "        \n",
        "        # Dense layer\n",
        "        self.fc = nn.Linear(hidden_dim, output_dim)\n",
        "\n",
        "        # self.fc25 = nn.Linear(hidden_dim, output_dim[1])\n",
        "        \n",
        "    def forward(self, text, text_lengths):\n",
        "        \n",
        "        # text = [batch size, sent_length]\n",
        "        embedded = self.embedding(text)\n",
        "        # embedded = [batch size, sent_len, emb dim]\n",
        "      \n",
        "        # packed sequence\n",
        "        packed_embedded = nn.utils.rnn.pack_padded_sequence(embedded, text_lengths.cpu(), batch_first=True)\n",
        "        \n",
        "        packed_output, (hidden, cell) = self.encoder(packed_embedded)\n",
        "        #hidden = [batch size, num layers * num directions,hid dim]\n",
        "        #cell = [batch size, num layers * num directions,hid dim]\n",
        "    \n",
        "        # Hidden = [batch size, hid dim * num directions]\n",
        "        dense_outputs = self.fc(hidden)\n",
        "\n",
        "        # dense_outputs25 = self.fc25(hidden)\n",
        "        \n",
        "        # Final activation function softmax\n",
        "        output = F.softmax(dense_outputs[0], dim=1)\n",
        "\n",
        "        # output25 = F.softmax(dense_outputs25[0], dim=1)\n",
        "            \n",
        "        return output"
      ],
      "execution_count": null,
      "outputs": []
    },
    {
      "cell_type": "code",
      "metadata": {
        "id": "Pcr5kX-G0In2"
      },
      "source": [
        "# Define hyperparameters\n",
        "size_of_vocab = len(sentence.vocab)\n",
        "embedding_dim = 300\n",
        "num_hidden_nodes = 100\n",
        "num_output_nodes = 5\n",
        "num_layers = 4\n",
        "dropout = 0.2\n",
        "\n",
        "# Instantiate the model\n",
        "model = classifier(size_of_vocab, embedding_dim, num_hidden_nodes, num_output_nodes, num_layers, dropout = dropout)"
      ],
      "execution_count": null,
      "outputs": []
    },
    {
      "cell_type": "code",
      "metadata": {
        "id": "_PfeCgx10K-7",
        "colab": {
          "base_uri": "https://localhost:8080/"
        },
        "outputId": "8aea9684-f1be-401d-c1f8-177e49b5bc5d"
      },
      "source": [
        "print(model)\n",
        "\n",
        "#No. of trianable parameters\n",
        "def count_parameters(model):\n",
        "    return sum(p.numel() for p in model.parameters() if p.requires_grad)\n",
        "    \n",
        "print(f'The model has {count_parameters(model):,} trainable parameters')"
      ],
      "execution_count": null,
      "outputs": [
        {
          "output_type": "stream",
          "text": [
            "classifier(\n",
            "  (embedding): Embedding(30192, 300)\n",
            "  (encoder): LSTM(300, 100, num_layers=4, batch_first=True, dropout=0.2)\n",
            "  (fc): Linear(in_features=100, out_features=5, bias=True)\n",
            ")\n",
            "The model has 9,461,305 trainable parameters\n"
          ],
          "name": "stdout"
        }
      ]
    },
    {
      "cell_type": "markdown",
      "metadata": {
        "id": "bFL0bwMILAWA"
      },
      "source": [
        "## Model Training and Evaluation"
      ]
    },
    {
      "cell_type": "markdown",
      "metadata": {
        "id": "A9qfuVK3LA_s"
      },
      "source": [
        "First define the optimizer and loss functions"
      ]
    },
    {
      "cell_type": "code",
      "metadata": {
        "id": "40iMOCkM0QqN"
      },
      "source": [
        "# define optimizer and loss\n",
        "optimizer = optim.Adam(model.parameters(), lr=1e-4)\n",
        "criterion = nn.CrossEntropyLoss()\n",
        "# criterion25 = nn.CrossEntropyLoss()\n",
        "\n",
        "# define metric\n",
        "def binary_accuracy(preds, y):\n",
        "    #round predictions to the closest integer\n",
        "    _, predictions = torch.max(preds, 1)\n",
        "    \n",
        "    correct = (predictions == y).float() \n",
        "    acc = correct.sum() / len(correct)\n",
        "    return acc\n",
        "    \n",
        "# push to cuda if available\n",
        "model = model.to(device)\n",
        "criterion = criterion.to(device)\n",
        "# criterion25 = criterion25.to(device)"
      ],
      "execution_count": null,
      "outputs": []
    },
    {
      "cell_type": "markdown",
      "metadata": {
        "id": "sZmlBj8yLE0u"
      },
      "source": [
        "The main thing to be aware of in this new training loop is that we have to reference `batch.tweets` and `batch.labels` to get the particular fields we’re interested in; they don’t fall out quite as nicely from the enumerator as they do in torchvision."
      ]
    },
    {
      "cell_type": "markdown",
      "metadata": {
        "id": "gveXpI2zLHj6"
      },
      "source": [
        "**Training Loop**"
      ]
    },
    {
      "cell_type": "code",
      "metadata": {
        "id": "NlMS9uHl0SSm"
      },
      "source": [
        "def train(model, iterator, optimizer, criterion):\n",
        "    \n",
        "    # initialize every epoch \n",
        "    epoch_loss = 0\n",
        "    epoch_acc = 0\n",
        "\n",
        "    # epoch_loss25 = 0\n",
        "    # epoch_acc25 = 0\n",
        "    \n",
        "    # set the model in training phase\n",
        "    model.train()  \n",
        "    \n",
        "    for batch in iterator:\n",
        "        \n",
        "        # resets the gradients after every batch\n",
        "        optimizer.zero_grad()   \n",
        "        \n",
        "        # retrieve text and no. of words\n",
        "        sentence, sentence_lengths = batch.sentence   \n",
        "        \n",
        "        # convert to 1D tensor\n",
        "        predictions = model(sentence, sentence_lengths).squeeze()\n",
        "        \n",
        "        # compute the loss\n",
        "        loss = criterion(predictions, batch.sentiment_5)\n",
        "        \n",
        "        # compute the binary accuracy\n",
        "        acc = binary_accuracy(predictions, batch.sentiment_5)\n",
        "        \n",
        "        # backpropage the loss and compute the gradients\n",
        "        loss.backward(retain_graph=True)      \n",
        "        \n",
        "        # update the weights\n",
        "        optimizer.step()      \n",
        "        \n",
        "        # loss and accuracy\n",
        "        epoch_loss += loss.item()  \n",
        "        epoch_acc += acc.item() \n",
        "        \n",
        "    return epoch_loss / len(iterator), epoch_acc / len(iterator)"
      ],
      "execution_count": null,
      "outputs": []
    },
    {
      "cell_type": "markdown",
      "metadata": {
        "id": "XSd_lLxqLNgK"
      },
      "source": [
        "**Evaluation Loop**"
      ]
    },
    {
      "cell_type": "code",
      "metadata": {
        "id": "wHG2CKes0SL0"
      },
      "source": [
        "def evaluate(model, iterator, criterion):\n",
        "    \n",
        "    # initialize every epoch\n",
        "    epoch_loss = 0\n",
        "    epoch_acc = 0\n",
        "\n",
        "    # deactivating dropout layers\n",
        "    model.eval()\n",
        "    \n",
        "    # deactivates autograd\n",
        "    with torch.no_grad():\n",
        "    \n",
        "        for batch in iterator:\n",
        "        \n",
        "            # retrieve text and no. of words\n",
        "            sentence, sentence_lengths = batch.sentence\n",
        "            \n",
        "            # convert to 1d tensor\n",
        "            predictions = model(sentence, sentence_lengths).squeeze()\n",
        "            \n",
        "            # compute loss and accuracy\n",
        "            loss = criterion(predictions, batch.sentiment_5)\n",
        "            acc = binary_accuracy(predictions, batch.sentiment_5)\n",
        "            \n",
        "            # keep track of loss and accuracy\n",
        "            epoch_loss += loss.item()\n",
        "            epoch_acc += acc.item()\n",
        "        \n",
        "    return epoch_loss / len(iterator), epoch_acc / len(iterator)"
      ],
      "execution_count": null,
      "outputs": []
    },
    {
      "cell_type": "markdown",
      "metadata": {
        "id": "X9IMeFenLPyp"
      },
      "source": [
        "**Let's Train and Evaluate**"
      ]
    },
    {
      "cell_type": "code",
      "metadata": {
        "id": "68aqTOXy0VjS",
        "colab": {
          "base_uri": "https://localhost:8080/"
        },
        "outputId": "e99a2b41-6aa4-42e0-e11c-8346b2271e36"
      },
      "source": [
        "N_EPOCHS = 40\n",
        "best_valid_loss = float('inf')\n",
        "val_losses = []\n",
        "train_losses = []\n",
        "\n",
        "val_accuracy = []\n",
        "train_accuracy = []\n",
        "\n",
        "for epoch in range(N_EPOCHS):\n",
        "     \n",
        "    start_time = time.time()\n",
        "    # train the model\n",
        "    train_loss, train_acc = train(model, train_iterator, optimizer, criterion)\n",
        "    train_losses.append(train_loss)\n",
        "    train_accuracy.append(train_acc)\n",
        "\n",
        "    # evaluate the model\n",
        "    valid_loss, valid_acc = evaluate(model, valid_iterator, criterion)\n",
        "    val_losses.append(valid_loss)\n",
        "    val_accuracy.append(valid_acc)\n",
        "\n",
        "\n",
        "    # save the best model\n",
        "    if valid_loss < best_valid_loss:\n",
        "        best_valid_loss = valid_loss\n",
        "        torch.save(model.state_dict(), 'saved_weights.pt')\n",
        "    \n",
        "    print(f'Epoch {epoch+1} | Time Taken: {(time.time() - start_time):.2f}s')\n",
        "    print(f'\\tTrain Loss  5 labels: {train_loss:.3f} | Train Acc  5 labels: {train_acc*100:.2f}%')\n",
        "    print(f'\\t Val. Loss  5 labels: {valid_loss:.3f} |  Val. Acc  5 labels: {valid_acc*100:.2f}% \\n')"
      ],
      "execution_count": null,
      "outputs": [
        {
          "output_type": "stream",
          "text": [
            "Epoch 1 | Time Taken: 20.04s\n",
            "\tTrain Loss  5 labels: 1.573 | Train Acc  5 labels: 29.51%\n",
            "\t Val. Loss  5 labels: 1.555 |  Val. Acc  5 labels: 32.48% \n",
            "\n",
            "Epoch 2 | Time Taken: 19.88s\n",
            "\tTrain Loss  5 labels: 1.512 | Train Acc  5 labels: 38.61%\n",
            "\t Val. Loss  5 labels: 1.536 |  Val. Acc  5 labels: 34.90% \n",
            "\n",
            "Epoch 3 | Time Taken: 19.98s\n",
            "\tTrain Loss  5 labels: 1.460 | Train Acc  5 labels: 44.09%\n",
            "\t Val. Loss  5 labels: 1.530 |  Val. Acc  5 labels: 35.10% \n",
            "\n",
            "Epoch 4 | Time Taken: 19.86s\n",
            "\tTrain Loss  5 labels: 1.421 | Train Acc  5 labels: 48.33%\n",
            "\t Val. Loss  5 labels: 1.534 |  Val. Acc  5 labels: 34.51% \n",
            "\n",
            "Epoch 5 | Time Taken: 19.79s\n",
            "\tTrain Loss  5 labels: 1.386 | Train Acc  5 labels: 52.27%\n",
            "\t Val. Loss  5 labels: 1.536 |  Val. Acc  5 labels: 34.66% \n",
            "\n",
            "Epoch 6 | Time Taken: 19.86s\n",
            "\tTrain Loss  5 labels: 1.355 | Train Acc  5 labels: 55.57%\n",
            "\t Val. Loss  5 labels: 1.540 |  Val. Acc  5 labels: 34.13% \n",
            "\n",
            "Epoch 7 | Time Taken: 19.87s\n",
            "\tTrain Loss  5 labels: 1.328 | Train Acc  5 labels: 58.27%\n",
            "\t Val. Loss  5 labels: 1.551 |  Val. Acc  5 labels: 33.05% \n",
            "\n",
            "Epoch 8 | Time Taken: 19.85s\n",
            "\tTrain Loss  5 labels: 1.300 | Train Acc  5 labels: 61.20%\n",
            "\t Val. Loss  5 labels: 1.557 |  Val. Acc  5 labels: 32.65% \n",
            "\n",
            "Epoch 9 | Time Taken: 19.87s\n",
            "\tTrain Loss  5 labels: 1.276 | Train Acc  5 labels: 63.88%\n",
            "\t Val. Loss  5 labels: 1.555 |  Val. Acc  5 labels: 33.19% \n",
            "\n",
            "Epoch 10 | Time Taken: 19.84s\n",
            "\tTrain Loss  5 labels: 1.252 | Train Acc  5 labels: 66.34%\n",
            "\t Val. Loss  5 labels: 1.560 |  Val. Acc  5 labels: 31.97% \n",
            "\n",
            "Epoch 11 | Time Taken: 19.80s\n",
            "\tTrain Loss  5 labels: 1.229 | Train Acc  5 labels: 68.76%\n",
            "\t Val. Loss  5 labels: 1.558 |  Val. Acc  5 labels: 32.25% \n",
            "\n",
            "Epoch 12 | Time Taken: 19.82s\n",
            "\tTrain Loss  5 labels: 1.208 | Train Acc  5 labels: 70.93%\n",
            "\t Val. Loss  5 labels: 1.559 |  Val. Acc  5 labels: 32.61% \n",
            "\n",
            "Epoch 13 | Time Taken: 19.82s\n",
            "\tTrain Loss  5 labels: 1.189 | Train Acc  5 labels: 72.64%\n",
            "\t Val. Loss  5 labels: 1.558 |  Val. Acc  5 labels: 33.31% \n",
            "\n",
            "Epoch 14 | Time Taken: 19.84s\n",
            "\tTrain Loss  5 labels: 1.173 | Train Acc  5 labels: 74.22%\n",
            "\t Val. Loss  5 labels: 1.565 |  Val. Acc  5 labels: 32.52% \n",
            "\n",
            "Epoch 15 | Time Taken: 19.82s\n",
            "\tTrain Loss  5 labels: 1.159 | Train Acc  5 labels: 75.50%\n",
            "\t Val. Loss  5 labels: 1.564 |  Val. Acc  5 labels: 32.91% \n",
            "\n",
            "Epoch 16 | Time Taken: 19.86s\n",
            "\tTrain Loss  5 labels: 1.147 | Train Acc  5 labels: 76.63%\n",
            "\t Val. Loss  5 labels: 1.560 |  Val. Acc  5 labels: 33.31% \n",
            "\n",
            "Epoch 17 | Time Taken: 19.85s\n",
            "\tTrain Loss  5 labels: 1.139 | Train Acc  5 labels: 77.35%\n",
            "\t Val. Loss  5 labels: 1.560 |  Val. Acc  5 labels: 33.22% \n",
            "\n",
            "Epoch 18 | Time Taken: 19.83s\n",
            "\tTrain Loss  5 labels: 1.130 | Train Acc  5 labels: 78.11%\n",
            "\t Val. Loss  5 labels: 1.570 |  Val. Acc  5 labels: 32.07% \n",
            "\n",
            "Epoch 19 | Time Taken: 19.87s\n",
            "\tTrain Loss  5 labels: 1.122 | Train Acc  5 labels: 78.76%\n",
            "\t Val. Loss  5 labels: 1.564 |  Val. Acc  5 labels: 32.89% \n",
            "\n",
            "Epoch 20 | Time Taken: 19.84s\n",
            "\tTrain Loss  5 labels: 1.117 | Train Acc  5 labels: 79.30%\n",
            "\t Val. Loss  5 labels: 1.570 |  Val. Acc  5 labels: 31.85% \n",
            "\n",
            "Epoch 21 | Time Taken: 19.86s\n",
            "\tTrain Loss  5 labels: 1.110 | Train Acc  5 labels: 79.92%\n",
            "\t Val. Loss  5 labels: 1.562 |  Val. Acc  5 labels: 33.19% \n",
            "\n",
            "Epoch 22 | Time Taken: 19.82s\n",
            "\tTrain Loss  5 labels: 1.105 | Train Acc  5 labels: 80.39%\n",
            "\t Val. Loss  5 labels: 1.564 |  Val. Acc  5 labels: 32.52% \n",
            "\n",
            "Epoch 23 | Time Taken: 19.84s\n",
            "\tTrain Loss  5 labels: 1.098 | Train Acc  5 labels: 81.13%\n",
            "\t Val. Loss  5 labels: 1.562 |  Val. Acc  5 labels: 32.80% \n",
            "\n",
            "Epoch 24 | Time Taken: 19.84s\n",
            "\tTrain Loss  5 labels: 1.086 | Train Acc  5 labels: 82.53%\n",
            "\t Val. Loss  5 labels: 1.562 |  Val. Acc  5 labels: 32.36% \n",
            "\n",
            "Epoch 25 | Time Taken: 19.85s\n",
            "\tTrain Loss  5 labels: 1.074 | Train Acc  5 labels: 83.83%\n",
            "\t Val. Loss  5 labels: 1.566 |  Val. Acc  5 labels: 32.16% \n",
            "\n",
            "Epoch 26 | Time Taken: 19.96s\n",
            "\tTrain Loss  5 labels: 1.062 | Train Acc  5 labels: 85.19%\n",
            "\t Val. Loss  5 labels: 1.563 |  Val. Acc  5 labels: 32.80% \n",
            "\n",
            "Epoch 27 | Time Taken: 20.12s\n",
            "\tTrain Loss  5 labels: 1.051 | Train Acc  5 labels: 86.43%\n",
            "\t Val. Loss  5 labels: 1.566 |  Val. Acc  5 labels: 32.39% \n",
            "\n",
            "Epoch 28 | Time Taken: 20.11s\n",
            "\tTrain Loss  5 labels: 1.039 | Train Acc  5 labels: 87.69%\n",
            "\t Val. Loss  5 labels: 1.568 |  Val. Acc  5 labels: 31.85% \n",
            "\n",
            "Epoch 29 | Time Taken: 19.88s\n",
            "\tTrain Loss  5 labels: 1.029 | Train Acc  5 labels: 88.74%\n",
            "\t Val. Loss  5 labels: 1.570 |  Val. Acc  5 labels: 31.62% \n",
            "\n",
            "Epoch 30 | Time Taken: 19.87s\n",
            "\tTrain Loss  5 labels: 1.020 | Train Acc  5 labels: 89.63%\n",
            "\t Val. Loss  5 labels: 1.576 |  Val. Acc  5 labels: 31.58% \n",
            "\n",
            "Epoch 31 | Time Taken: 20.00s\n",
            "\tTrain Loss  5 labels: 1.013 | Train Acc  5 labels: 90.23%\n",
            "\t Val. Loss  5 labels: 1.570 |  Val. Acc  5 labels: 31.99% \n",
            "\n",
            "Epoch 32 | Time Taken: 19.99s\n",
            "\tTrain Loss  5 labels: 1.005 | Train Acc  5 labels: 90.88%\n",
            "\t Val. Loss  5 labels: 1.564 |  Val. Acc  5 labels: 32.50% \n",
            "\n",
            "Epoch 33 | Time Taken: 19.91s\n",
            "\tTrain Loss  5 labels: 1.000 | Train Acc  5 labels: 91.40%\n",
            "\t Val. Loss  5 labels: 1.572 |  Val. Acc  5 labels: 32.05% \n",
            "\n",
            "Epoch 34 | Time Taken: 19.96s\n",
            "\tTrain Loss  5 labels: 0.996 | Train Acc  5 labels: 91.74%\n",
            "\t Val. Loss  5 labels: 1.574 |  Val. Acc  5 labels: 31.88% \n",
            "\n",
            "Epoch 35 | Time Taken: 19.80s\n",
            "\tTrain Loss  5 labels: 0.990 | Train Acc  5 labels: 92.15%\n",
            "\t Val. Loss  5 labels: 1.581 |  Val. Acc  5 labels: 31.34% \n",
            "\n",
            "Epoch 36 | Time Taken: 19.93s\n",
            "\tTrain Loss  5 labels: 0.986 | Train Acc  5 labels: 92.50%\n",
            "\t Val. Loss  5 labels: 1.574 |  Val. Acc  5 labels: 31.81% \n",
            "\n",
            "Epoch 37 | Time Taken: 19.88s\n",
            "\tTrain Loss  5 labels: 0.983 | Train Acc  5 labels: 92.76%\n",
            "\t Val. Loss  5 labels: 1.581 |  Val. Acc  5 labels: 31.27% \n",
            "\n",
            "Epoch 38 | Time Taken: 19.92s\n",
            "\tTrain Loss  5 labels: 0.981 | Train Acc  5 labels: 92.97%\n",
            "\t Val. Loss  5 labels: 1.572 |  Val. Acc  5 labels: 31.99% \n",
            "\n",
            "Epoch 39 | Time Taken: 19.98s\n",
            "\tTrain Loss  5 labels: 0.978 | Train Acc  5 labels: 93.18%\n",
            "\t Val. Loss  5 labels: 1.576 |  Val. Acc  5 labels: 31.57% \n",
            "\n",
            "Epoch 40 | Time Taken: 19.95s\n",
            "\tTrain Loss  5 labels: 0.975 | Train Acc  5 labels: 93.52%\n",
            "\t Val. Loss  5 labels: 1.572 |  Val. Acc  5 labels: 32.15% \n",
            "\n"
          ],
          "name": "stdout"
        }
      ]
    },
    {
      "cell_type": "code",
      "metadata": {
        "id": "e9Lk-0a6M33c",
        "colab": {
          "base_uri": "https://localhost:8080/",
          "height": 362
        },
        "outputId": "1abdf1bc-3123-4fd9-a548-85a9115de422"
      },
      "source": [
        "# Plotting the train and validation loss\n",
        "plt.figure(figsize=(10, 5))\n",
        "plt.title(\"Training and Validation Loss for label 5\")\n",
        "plt.plot(val_losses, label=\"val\")\n",
        "plt.plot(train_losses, label=\"train\")\n",
        "plt.xlabel(\"iterations\")\n",
        "plt.ylabel(\"Loss\")\n",
        "plt.legend()\n",
        "plt.show()"
      ],
      "execution_count": null,
      "outputs": [
        {
          "output_type": "display_data",
          "data": {
            "image/png": "[encoded data removed]",
            "text/plain": [
              "<Figure size 720x360 with 1 Axes>"
            ]
          },
          "metadata": {
            "tags": [],
            "needs_background": "light"
          }
        }
      ]
    },
    {
      "cell_type": "code",
      "metadata": {
        "id": "LfBFSaetDxrS",
        "colab": {
          "base_uri": "https://localhost:8080/",
          "height": 362
        },
        "outputId": "4905b2bc-5763-445a-e497-617946ce1abc"
      },
      "source": [
        "# Plotting the train and validation Accuracy\n",
        "\n",
        "plt.figure(figsize=(10, 5))\n",
        "plt.title(\"Training and Validation Accuracy for Label 5\")\n",
        "plt.plot(val_accuracy, label=\"val\")\n",
        "plt.plot(train_accuracy, label=\"train\")\n",
        "plt.xlabel(\"iterations\")\n",
        "plt.ylabel(\"Accuracy\")\n",
        "plt.legend()\n",
        "plt.show()"
      ],
      "execution_count": null,
      "outputs": [
        {
          "output_type": "display_data",
          "data": {
            "image/png": "[encoded data removed]",
            "text/plain": [
              "<Figure size 720x360 with 1 Axes>"
            ]
          },
          "metadata": {
            "tags": [],
            "needs_background": "light"
          }
        }
      ]
    },
    {
      "cell_type": "code",
      "metadata": {
        "id": "Yzj2gemzEGP0"
      },
      "source": [
        "#load weights and tokenizer\n",
        "\n",
        "path='./saved_weights.pt'\n",
        "model.load_state_dict(torch.load(path));\n",
        "model.eval();\n",
        "tokenizer_file = open('./tokenizer.pkl', 'rb')\n",
        "tokenizer = pickle.load(tokenizer_file)\n",
        "\n",
        "#inference \n",
        "\n",
        "import spacy\n",
        "nlp = spacy.load('en')\n",
        "\n",
        "categories = {1: \"very negative\", 2:\"negative\", 3:\"neutral\", 4:'positive', 5:'very positive'}\n",
        "inv_categories = {v: k for k,v in categories.items()}\n",
        "\n",
        "def classify_tweet(sentence):\n",
        "    \n",
        "    # tokenize the tweet \n",
        "    tokenized = [tok.text for tok in nlp.tokenizer(sentence)] \n",
        "    # convert to integer sequence using predefined tokenizer dictionary\n",
        "    indexed = [tokenizer[t] for t in tokenized]        \n",
        "    # compute no. of words        \n",
        "    length = [len(indexed)]\n",
        "    # convert to tensor                                    \n",
        "    tensor = torch.LongTensor(indexed).to(device)   \n",
        "    # reshape in form of batch, no. of words           \n",
        "    tensor = tensor.unsqueeze(1).T  \n",
        "    # convert to tensor                          \n",
        "    length_tensor = torch.LongTensor(length)\n",
        "    # Get the model prediction                  \n",
        "    prediction = model(tensor, length_tensor)\n",
        "\n",
        "    _, pred = torch.max(prediction, 1) \n",
        "    \n",
        "    return categories[pred.item()+1]"
      ],
      "execution_count": null,
      "outputs": []
    },
    {
      "cell_type": "code",
      "metadata": {
        "id": "tE-5Q3eoFC0L",
        "colab": {
          "base_uri": "https://localhost:8080/",
          "height": 35
        },
        "outputId": "d4923369-046c-4dfd-c203-c8139aac39c7"
      },
      "source": [
        "classify_tweet(\"A valid explanation for why Trump won't let women on the golf course.\")"
      ],
      "execution_count": null,
      "outputs": [
        {
          "output_type": "execute_result",
          "data": {
            "application/vnd.google.colaboratory.intrinsic+json": {
              "type": "string"
            },
            "text/plain": [
              "'very negative'"
            ]
          },
          "metadata": {
            "tags": []
          },
          "execution_count": 61
        }
      ]
    },
    {
      "cell_type": "code",
      "metadata": {
        "id": "K80fUTBTFEwh"
      },
      "source": [
        "df_eval = pd.DataFrame(\n",
        "    [(df_valid['sentence'][idx], df_valid['sentiment_5'][idx], inv_categories[classify_tweet(df_valid['sentence'][idx])]) for idx in df_valid.index]\n",
        "    , columns=['sentence','sentiment_5', 'sentiment_5_c']\n",
        ")"
      ],
      "execution_count": null,
      "outputs": []
    },
    {
      "cell_type": "code",
      "metadata": {
        "id": "V1pP3JcnIUt6",
        "colab": {
          "base_uri": "https://localhost:8080/"
        },
        "outputId": "cbede59b-4468-4b9d-eec5-afdd7c3f0036"
      },
      "source": [
        "from sklearn.metrics import f1_score\n",
        "f1_score(df_eval['sentiment_5'].values, df_eval['sentiment_5_c'].values, average='weighted')"
      ],
      "execution_count": null,
      "outputs": [
        {
          "output_type": "execute_result",
          "data": {
            "text/plain": [
              "0.17384804637795392"
            ]
          },
          "metadata": {
            "tags": []
          },
          "execution_count": 63
        }
      ]
    },
    {
      "cell_type": "code",
      "metadata": {
        "id": "3vbsC4UWgeCA",
        "colab": {
          "base_uri": "https://localhost:8080/",
          "height": 419
        },
        "outputId": "0dff3269-1a41-4fd6-a87e-b944eeb4c8fe"
      },
      "source": [
        "# not matching\n",
        "df_incorrect = df_eval[df_eval['sentiment_5'] != df_eval['sentiment_5_c']]\n",
        "df_incorrect"
      ],
      "execution_count": null,
      "outputs": [
        {
          "output_type": "execute_result",
          "data": {
            "text/html": [
              "<div>\n",
              "<style scoped>\n",
              "    .dataframe tbody tr th:only-of-type {\n",
              "        vertical-align: middle;\n",
              "    }\n",
              "\n",
              "    .dataframe tbody tr th {\n",
              "        vertical-align: top;\n",
              "    }\n",
              "\n",
              "    .dataframe thead th {\n",
              "        text-align: right;\n",
              "    }\n",
              "</style>\n",
              "<table border=\"1\" class=\"dataframe\">\n",
              "  <thead>\n",
              "    <tr style=\"text-align: right;\">\n",
              "      <th></th>\n",
              "      <th>sentence</th>\n",
              "      <th>sentiment_5</th>\n",
              "      <th>sentiment_5_c</th>\n",
              "    </tr>\n",
              "  </thead>\n",
              "  <tbody>\n",
              "    <tr>\n",
              "      <th>0</th>\n",
              "      <td>I firmly believe that a good video game movie ...</td>\n",
              "      <td>4</td>\n",
              "      <td>2</td>\n",
              "    </tr>\n",
              "    <tr>\n",
              "      <th>3</th>\n",
              "      <td>Fast and funny , an action cartoon that 's sus...</td>\n",
              "      <td>4</td>\n",
              "      <td>2</td>\n",
              "    </tr>\n",
              "    <tr>\n",
              "      <th>4</th>\n",
              "      <td>Exhilarating , funny and fun .</td>\n",
              "      <td>5</td>\n",
              "      <td>1</td>\n",
              "    </tr>\n",
              "    <tr>\n",
              "      <th>8</th>\n",
              "      <td>The entire movie establishes a wonderfully cre...</td>\n",
              "      <td>5</td>\n",
              "      <td>1</td>\n",
              "    </tr>\n",
              "    <tr>\n",
              "      <th>9</th>\n",
              "      <td>Often moving and explores the discomfort inher...</td>\n",
              "      <td>3</td>\n",
              "      <td>2</td>\n",
              "    </tr>\n",
              "    <tr>\n",
              "      <th>...</th>\n",
              "      <td>...</td>\n",
              "      <td>...</td>\n",
              "      <td>...</td>\n",
              "    </tr>\n",
              "    <tr>\n",
              "      <th>3552</th>\n",
              "      <td>An indispensable peek at the art and the agony...</td>\n",
              "      <td>4</td>\n",
              "      <td>1</td>\n",
              "    </tr>\n",
              "    <tr>\n",
              "      <th>3553</th>\n",
              "      <td>Tries so hard to be quirky and funny that the ...</td>\n",
              "      <td>1</td>\n",
              "      <td>2</td>\n",
              "    </tr>\n",
              "    <tr>\n",
              "      <th>3554</th>\n",
              "      <td>I liked the original short story but this movi...</td>\n",
              "      <td>1</td>\n",
              "      <td>2</td>\n",
              "    </tr>\n",
              "    <tr>\n",
              "      <th>3556</th>\n",
              "      <td>It 's a hoot watching The Rock chomp on jumbo ...</td>\n",
              "      <td>5</td>\n",
              "      <td>1</td>\n",
              "    </tr>\n",
              "    <tr>\n",
              "      <th>3557</th>\n",
              "      <td>... the implication is Kissinger may have deci...</td>\n",
              "      <td>3</td>\n",
              "      <td>2</td>\n",
              "    </tr>\n",
              "  </tbody>\n",
              "</table>\n",
              "<p>2757 rows × 3 columns</p>\n",
              "</div>"
            ],
            "text/plain": [
              "                                               sentence  ...  sentiment_5_c\n",
              "0     I firmly believe that a good video game movie ...  ...              2\n",
              "3     Fast and funny , an action cartoon that 's sus...  ...              2\n",
              "4                        Exhilarating , funny and fun .  ...              1\n",
              "8     The entire movie establishes a wonderfully cre...  ...              1\n",
              "9     Often moving and explores the discomfort inher...  ...              2\n",
              "...                                                 ...  ...            ...\n",
              "3552  An indispensable peek at the art and the agony...  ...              1\n",
              "3553  Tries so hard to be quirky and funny that the ...  ...              2\n",
              "3554  I liked the original short story but this movi...  ...              2\n",
              "3556  It 's a hoot watching The Rock chomp on jumbo ...  ...              1\n",
              "3557  ... the implication is Kissinger may have deci...  ...              2\n",
              "\n",
              "[2757 rows x 3 columns]"
            ]
          },
          "metadata": {
            "tags": []
          },
          "execution_count": 64
        }
      ]
    },
    {
      "cell_type": "code",
      "metadata": {
        "id": "L_m6JP-xghLC",
        "colab": {
          "base_uri": "https://localhost:8080/",
          "height": 634
        },
        "outputId": "fb008439-5b4d-42f9-ed71-7979c2587fcd"
      },
      "source": [
        "from sklearn.metrics import confusion_matrix\n",
        "cm = confusion_matrix(df_eval['sentiment_5'].values, df_eval['sentiment_5_c'].values)\n",
        "\n",
        "import seaborn as sns\n",
        "import matplotlib.pyplot as plt     \n",
        "\n",
        "\n",
        "font = {'font.size': 14}\n",
        "plt.rcParams.update(font)\n",
        "plt.figure(figsize=(10, 10))\n",
        "ax= plt.subplot()\n",
        "sns.heatmap(cm, annot=True, fmt='g', ax=ax);  #annot=True to annotate cells, ftm='g' to disable scientific notation\n",
        "\n",
        "# labels, title and ticks\n",
        "ax.set_xlabel('Predicted labels');ax.set_ylabel('True labels'); \n",
        "ax.set_title('Confusion Matrix'); \n",
        "ax.xaxis.set_ticklabels(list(categories.values())); ax.yaxis.set_ticklabels(list(categories.values())[::-1]);"
      ],
      "execution_count": null,
      "outputs": [
        {
          "output_type": "display_data",
          "data": {
            "image/png": "[encoded data removed]",
            "text/plain": [
              "<Figure size 720x720 with 2 Axes>"
            ]
          },
          "metadata": {
            "tags": [],
            "needs_background": "light"
          }
        }
      ]
    },
    {
      "cell_type": "code",
      "metadata": {
        "id": "8MRvmDgtGup-"
      },
      "source": [
        ""
      ],
      "execution_count": null,
      "outputs": []
    }
  ]
}